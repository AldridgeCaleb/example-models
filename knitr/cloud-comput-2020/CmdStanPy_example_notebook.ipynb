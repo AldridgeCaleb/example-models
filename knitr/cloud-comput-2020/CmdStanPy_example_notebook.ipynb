{
  "nbformat": 4,
  "nbformat_minor": 0,
  "metadata": {
    "colab": {
      "name": "CmdStanPy_example_notebook.ipynb",
      "provenance": [],
      "collapsed_sections": [],
      "include_colab_link": true
    },
    "kernelspec": {
      "name": "python3",
      "display_name": "Python 3"
    }
  },
  "cells": [
    {
      "cell_type": "markdown",
      "metadata": {
        "id": "view-in-github",
        "colab_type": "text"
      },
      "source": [
        "<a href=\"https://colab.research.google.com/github/stan-dev/example-models/blob/case-study%2Fstan-cloud/knitr/cloud-comput-2020/CmdStanPy_example_notebook.ipynb\" target=\"_parent\"><img src=\"https://colab.research.google.com/assets/colab-badge.svg\" alt=\"Open In Colab\"/></a>"
      ]
    },
    {
      "cell_type": "code",
      "metadata": {
        "id": "gbdHhsx_yeY3",
        "colab_type": "code",
        "colab": {}
      },
      "source": [
        "# Install package CmdStanPy\n",
        "!pip install cmdstanpy"
      ],
      "execution_count": 0,
      "outputs": []
    },
    {
      "cell_type": "code",
      "metadata": {
        "id": "ccnCCoogxJCk",
        "colab_type": "code",
        "colab": {}
      },
      "source": [
        "# Download, unpack CmdStan binaries\n",
        "import os\n",
        "import urllib.request\n",
        "import shutil\n",
        "tgz_file = 'cmdstan-2-22-1.tgz'\n",
        "tgz_url = 'https://storage.googleapis.com/cmdstan-2-22-tgz/cmdstan-2-22-1.tgz'\n",
        "\n",
        "if not os.path.exists(tgz_file):\n",
        "  try:\n",
        "    urllib.request.urlretrieve(tgz_url, tgz_file)\n",
        "    shutil.unpack_archive(tgz_file)\n",
        "  except Exception:\n",
        "    raise KeyboardInterrupt\n"
      ],
      "execution_count": 0,
      "outputs": []
    },
    {
      "cell_type": "code",
      "metadata": {
        "id": "RXR5BWbA88cF",
        "colab_type": "code",
        "colab": {}
      },
      "source": [
        "# CmdStan is installed in current working directory\n",
        "!ls"
      ],
      "execution_count": 0,
      "outputs": []
    },
    {
      "cell_type": "code",
      "metadata": {
        "id": "Qbrn6pc_zgVg",
        "colab_type": "code",
        "colab": {}
      },
      "source": [
        "# Specify CmdStan location via environment variable\n",
        "import os\n",
        "os.environ['CMDSTAN'] = './cmdstan-2.22.1'"
      ],
      "execution_count": 0,
      "outputs": []
    },
    {
      "cell_type": "code",
      "metadata": {
        "id": "PAjGFluW0pHb",
        "colab_type": "code",
        "colab": {}
      },
      "source": [
        "# Check CmdStan path\n",
        "from cmdstanpy import cmdstan_path\n",
        "cmdstan_path()"
      ],
      "execution_count": 0,
      "outputs": []
    },
    {
      "cell_type": "code",
      "metadata": {
        "id": "hyk_X__R0vJc",
        "colab_type": "code",
        "colab": {}
      },
      "source": [
        "# Run CmdStanPy Hello, World! example\n",
        "from cmdstanpy import cmdstan_path, CmdStanModel\n",
        "bernoulli_stan = os.path.join(cmdstan_path(), 'examples', 'bernoulli', 'bernoulli.stan')\n",
        "bernoulli_model = CmdStanModel(stan_file=bernoulli_stan)\n",
        "\n",
        "bernoulli_data = { \"N\" : 10, \"y\" : [0,1,0,0,0,0,0,0,0,1] }\n",
        "bern_fit = bernoulli_model.sample(data=bernoulli_data, output_dir='.')"
      ],
      "execution_count": 0,
      "outputs": []
    },
    {
      "cell_type": "code",
      "metadata": {
        "id": "MMW0tEzt2W7k",
        "colab_type": "code",
        "colab": {}
      },
      "source": [
        "# Summarize fitted model parameters\n",
        "bern_fit.summary()"
      ],
      "execution_count": 0,
      "outputs": []
    },
    {
      "cell_type": "code",
      "metadata": {
        "id": "cPpA26wn-f6O",
        "colab_type": "code",
        "colab": {}
      },
      "source": [
        "# Check sampler diagnostics\n",
        "bern_fit.diagnose()"
      ],
      "execution_count": 0,
      "outputs": []
    },
    {
      "cell_type": "code",
      "metadata": {
        "id": "Nmqhy9E6_8K8",
        "colab_type": "code",
        "colab": {}
      },
      "source": [
        ""
      ],
      "execution_count": 0,
      "outputs": []
    }
  ]
}