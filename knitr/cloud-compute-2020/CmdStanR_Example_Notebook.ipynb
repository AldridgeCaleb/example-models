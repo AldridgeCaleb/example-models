{
  "nbformat": 4,
  "nbformat_minor": 0,
  "metadata": {
    "kernelspec": {
      "display_name": "R",
      "language": "R",
      "name": "ir"
    },
    "language_info": {
      "codemirror_mode": "r",
      "file_extension": ".r",
      "mimetype": "text/x-r-source",
      "name": "R",
      "pygments_lexer": "r",
      "version": "3.6.1"
    },
    "colab": {
      "name": "CmdStanR Example Notebook.ipynb",
      "provenance": [],
      "collapsed_sections": [],
      "include_colab_link": true
    }
  },
  "cells": [
    {
      "cell_type": "markdown",
      "metadata": {
        "id": "view-in-github",
        "colab_type": "text"
      },
      "source": [
        "<a href=\"https://colab.research.google.com/github/stan-dev/example-models/blob/case-study%2Fstan-cloud/knitr/cloud-compute-2020/CmdStanR_Example_Notebook.ipynb\" target=\"_parent\"><img src=\"https://colab.research.google.com/assets/colab-badge.svg\" alt=\"Open In Colab\"/></a>"
      ]
    },
    {
      "cell_type": "markdown",
      "metadata": {
        "id": "fhNZXCzKuFFF",
        "colab_type": "text"
      },
      "source": [
        "## CmdStanR Jupyter Notebook"
      ]
    },
    {
      "cell_type": "code",
      "metadata": {
        "id": "2WtFcXmMuFFI",
        "colab_type": "code",
        "colab": {
          "base_uri": "https://localhost:8080/",
          "height": 33
        },
        "outputId": "3466288d-1d3f-45a7-8b7d-4e72db8ea8fb"
      },
      "source": [
        "# Install CmdStan binaries\n",
        "if (!file.exists(\"cmdstan-2-22-1.tgz\")) {\n",
        "  system(\"wget https://storage.googleapis.com/cmdstan-2-22-tgz/cmdstan-2-22-1.tgz\", intern=T)\n",
        "  system(\"tar zxf cmdstan-2-22-1.tgz\", intern=T)\n",
        "}\n",
        "list.files(\"cmdstan-2.22.1\")"
      ],
      "execution_count": 1,
      "outputs": [
        {
          "output_type": "display_data",
          "data": {
            "text/plain": [
              "character(0)"
            ],
            "text/latex": "",
            "text/markdown": "",
            "text/html": [
              ""
            ]
          },
          "metadata": {
            "tags": []
          }
        },
        {
          "output_type": "display_data",
          "data": {
            "text/plain": [
              " [1] \"bin\"                \"examples\"           \"install-tbb.bat\"   \n",
              " [4] \"Jenkinsfile\"        \"lib\"                \"LICENSE\"           \n",
              " [7] \"make\"               \"makefile\"           \"README.md\"         \n",
              "[10] \"runCmdStanTests.py\" \"src\"                \"stan\"              \n",
              "[13] \"test-all.sh\"       "
            ],
            "text/latex": "\\begin{enumerate*}\n\\item 'bin'\n\\item 'examples'\n\\item 'install-tbb.bat'\n\\item 'Jenkinsfile'\n\\item 'lib'\n\\item 'LICENSE'\n\\item 'make'\n\\item 'makefile'\n\\item 'README.md'\n\\item 'runCmdStanTests.py'\n\\item 'src'\n\\item 'stan'\n\\item 'test-all.sh'\n\\end{enumerate*}\n",
            "text/markdown": "1. 'bin'\n2. 'examples'\n3. 'install-tbb.bat'\n4. 'Jenkinsfile'\n5. 'lib'\n6. 'LICENSE'\n7. 'make'\n8. 'makefile'\n9. 'README.md'\n10. 'runCmdStanTests.py'\n11. 'src'\n12. 'stan'\n13. 'test-all.sh'\n\n\n",
            "text/html": [
              "<style>\n",
              ".list-inline {list-style: none; margin:0; padding: 0}\n",
              ".list-inline>li {display: inline-block}\n",
              ".list-inline>li:not(:last-child)::after {content: \"\\00b7\"; padding: 0 .5ex}\n",
              "</style>\n",
              "<ol class=list-inline><li>'bin'</li><li>'examples'</li><li>'install-tbb.bat'</li><li>'Jenkinsfile'</li><li>'lib'</li><li>'LICENSE'</li><li>'make'</li><li>'makefile'</li><li>'README.md'</li><li>'runCmdStanTests.py'</li><li>'src'</li><li>'stan'</li><li>'test-all.sh'</li></ol>\n"
            ]
          },
          "metadata": {
            "tags": []
          }
        }
      ]
    },
    {
      "cell_type": "code",
      "metadata": {
        "id": "o-eCn28fuFFM",
        "colab_type": "code",
        "colab": {}
      },
      "source": [
        "# Install package CmdStanR from GitHub\n",
        "library(devtools)\n",
        "devtools::install_github(\"stan-dev/cmdstanr\", dependencies=c(\"Depends\", \"Imports\"))"
      ],
      "execution_count": 0,
      "outputs": []
    },
    {
      "cell_type": "code",
      "metadata": {
        "id": "8-oNTCSauFFQ",
        "colab_type": "code",
        "colab": {
          "base_uri": "https://localhost:8080/",
          "height": 50
        },
        "outputId": "7f5bf8cb-ed72-4c16-aa88-ab315bdaeafc"
      },
      "source": [
        "# Load library, set cmdstan path to CmdStan installation\n",
        "library(cmdstanr)\n",
        "set_cmdstan_path(\"cmdstan-2.22.1\")\n",
        "options(digits = 2)\n",
        "set.seed(1123)\n"
      ],
      "execution_count": 8,
      "outputs": [
        {
          "output_type": "stream",
          "text": [
            "CmdStan path set to: /content/cmdstan-2.22.1\n",
            "\n"
          ],
          "name": "stderr"
        }
      ]
    },
    {
      "cell_type": "code",
      "metadata": {
        "id": "5gS9PxrPuFFT",
        "colab_type": "code",
        "colab": {
          "base_uri": "https://localhost:8080/",
          "height": 1000
        },
        "outputId": "4e984f64-319e-4c4f-c40f-e4dea5bbe87f"
      },
      "source": [
        "# Compile, run, example model\n",
        "file <- file.path(cmdstan_path(), \"examples\", \"bernoulli\", \"bernoulli.stan\")\n",
        "mod <- cmdstan_model(file)\n",
        "data_list <- list(N = 10, y =c(0,1,0,0,0,0,0,0,0,1))\n",
        "fit <- mod$sample(\n",
        "  data = data_list, \n",
        "  seed = 123, \n",
        "  num_chains = 2, \n",
        "  num_cores = 2\n",
        ")\n",
        "fit$summary()"
      ],
      "execution_count": 9,
      "outputs": [
        {
          "output_type": "stream",
          "text": [
            "Compiling Stan program...\n",
            "\n"
          ],
          "name": "stderr"
        },
        {
          "output_type": "stream",
          "text": [
            "Running MCMC with 2 chain(s) on 2 core(s)...\n",
            "\n",
            "Running ./bernoulli 'id=1' random 'seed=123' data \\\n",
            "  'file=/tmp/RtmpJpRH3F/standata-784e2b28cc.json' output \\\n",
            "  'file=/tmp/RtmpJpRH3F/bernoulli-202003030453-1-a6517d.csv' 'method=sample' \\\n",
            "  'save_warmup=0' 'algorithm=hmc' 'engine=nuts' adapt 'engaged=1'\n",
            "Running ./bernoulli 'id=2' random 'seed=124' data \\\n",
            "  'file=/tmp/RtmpJpRH3F/standata-784e2b28cc.json' output \\\n",
            "  'file=/tmp/RtmpJpRH3F/bernoulli-202003030453-2-a6517d.csv' 'method=sample' \\\n",
            "  'save_warmup=0' 'algorithm=hmc' 'engine=nuts' adapt 'engaged=1'\n",
            "Chain 1 Iteration:    1 / 2000 [  0%]  (Warmup) \n",
            "Chain 1 Iteration:  100 / 2000 [  5%]  (Warmup) \n",
            "Chain 1 Iteration:  200 / 2000 [ 10%]  (Warmup) \n",
            "Chain 1 Iteration:  300 / 2000 [ 15%]  (Warmup) \n",
            "Chain 1 Iteration:  400 / 2000 [ 20%]  (Warmup) \n",
            "Chain 1 Iteration:  500 / 2000 [ 25%]  (Warmup) \n",
            "Chain 1 Iteration:  600 / 2000 [ 30%]  (Warmup) \n",
            "Chain 1 Iteration:  700 / 2000 [ 35%]  (Warmup) \n",
            "Chain 1 Iteration:  800 / 2000 [ 40%]  (Warmup) \n",
            "Chain 1 Iteration:  900 / 2000 [ 45%]  (Warmup) \n",
            "Chain 1 Iteration: 1000 / 2000 [ 50%]  (Warmup) \n",
            "Chain 1 Iteration: 1001 / 2000 [ 50%]  (Sampling) \n",
            "Chain 1 Iteration: 1100 / 2000 [ 55%]  (Sampling) \n",
            "Chain 1 Iteration: 1200 / 2000 [ 60%]  (Sampling) \n",
            "Chain 1 Iteration: 1300 / 2000 [ 65%]  (Sampling) \n",
            "Chain 1 Iteration: 1400 / 2000 [ 70%]  (Sampling) \n",
            "Chain 1 Iteration: 1500 / 2000 [ 75%]  (Sampling) \n",
            "Chain 1 Iteration: 1600 / 2000 [ 80%]  (Sampling) \n",
            "Chain 1 Iteration: 1700 / 2000 [ 85%]  (Sampling) \n",
            "Chain 1 Iteration: 1800 / 2000 [ 90%]  (Sampling) \n",
            "Chain 1 Iteration: 1900 / 2000 [ 95%]  (Sampling) \n",
            "Chain 1 Iteration: 2000 / 2000 [100%]  (Sampling) \n",
            "Chain 2 Iteration:    1 / 2000 [  0%]  (Warmup) \n",
            "Chain 2 Iteration:  100 / 2000 [  5%]  (Warmup) \n",
            "Chain 2 Iteration:  200 / 2000 [ 10%]  (Warmup) \n",
            "Chain 2 Iteration:  300 / 2000 [ 15%]  (Warmup) \n",
            "Chain 2 Iteration:  400 / 2000 [ 20%]  (Warmup) \n",
            "Chain 2 Iteration:  500 / 2000 [ 25%]  (Warmup) \n",
            "Chain 2 Iteration:  600 / 2000 [ 30%]  (Warmup) \n",
            "Chain 2 Iteration:  700 / 2000 [ 35%]  (Warmup) \n",
            "Chain 2 Iteration:  800 / 2000 [ 40%]  (Warmup) \n",
            "Chain 2 Iteration:  900 / 2000 [ 45%]  (Warmup) \n",
            "Chain 2 Iteration: 1000 / 2000 [ 50%]  (Warmup) \n",
            "Chain 2 Iteration: 1001 / 2000 [ 50%]  (Sampling) \n",
            "Chain 2 Iteration: 1100 / 2000 [ 55%]  (Sampling) \n",
            "Chain 2 Iteration: 1200 / 2000 [ 60%]  (Sampling) \n",
            "Chain 2 Iteration: 1300 / 2000 [ 65%]  (Sampling) \n",
            "Chain 2 Iteration: 1400 / 2000 [ 70%]  (Sampling) \n",
            "Chain 2 Iteration: 1500 / 2000 [ 75%]  (Sampling) \n",
            "Chain 2 Iteration: 1600 / 2000 [ 80%]  (Sampling) \n",
            "Chain 2 Iteration: 1700 / 2000 [ 85%]  (Sampling) \n",
            "Chain 2 Iteration: 1800 / 2000 [ 90%]  (Sampling) \n",
            "Chain 2 Iteration: 1900 / 2000 [ 95%]  (Sampling) \n",
            "Chain 2 Iteration: 2000 / 2000 [100%]  (Sampling) \n",
            "Chain 1 finished in 0.1 seconds.\n",
            "Chain 2 finished in 0.1 seconds.\n",
            "\n",
            "Both chains finished succesfully.\n",
            "Mean chain execution time: 0.1 seconds.\n",
            "Total execution time: 0.1 seconds.\n"
          ],
          "name": "stdout"
        },
        {
          "output_type": "display_data",
          "data": {
            "text/plain": [
              "  variable mean  median sd   mad  q5     q95   rhat ess_bulk ess_tail\n",
              "1 lp__     -7.29 -7.01  0.74 0.36 -8.778 -6.75 1    787       925    \n",
              "2 theta     0.26  0.24  0.13 0.13  0.087  0.49 1    820      1018    "
            ],
            "text/latex": "A draws\\_summary: 2 × 10\n\\begin{tabular}{llllllllll}\n variable & mean & median & sd & mad & q5 & q95 & rhat & ess\\_bulk & ess\\_tail\\\\\n <chr> & <dbl> & <dbl> & <dbl> & <dbl> & <dbl> & <dbl> & <dbl> & <dbl> & <dbl>\\\\\n\\hline\n\t lp\\_\\_  & -7.29 & -7.01 & 0.74 & 0.36 & -8.778 & -6.75 & 1 & 787 &  925\\\\\n\t theta &  0.26 &  0.24 & 0.13 & 0.13 &  0.087 &  0.49 & 1 & 820 & 1018\\\\\n\\end{tabular}\n",
            "text/markdown": "\nA draws_summary: 2 × 10\n\n| variable &lt;chr&gt; | mean &lt;dbl&gt; | median &lt;dbl&gt; | sd &lt;dbl&gt; | mad &lt;dbl&gt; | q5 &lt;dbl&gt; | q95 &lt;dbl&gt; | rhat &lt;dbl&gt; | ess_bulk &lt;dbl&gt; | ess_tail &lt;dbl&gt; |\n|---|---|---|---|---|---|---|---|---|---|\n| lp__  | -7.29 | -7.01 | 0.74 | 0.36 | -8.778 | -6.75 | 1 | 787 |  925 |\n| theta |  0.26 |  0.24 | 0.13 | 0.13 |  0.087 |  0.49 | 1 | 820 | 1018 |\n\n",
            "text/html": [
              "<table>\n",
              "<caption>A draws_summary: 2 × 10</caption>\n",
              "<thead>\n",
              "\t<tr><th scope=col>variable</th><th scope=col>mean</th><th scope=col>median</th><th scope=col>sd</th><th scope=col>mad</th><th scope=col>q5</th><th scope=col>q95</th><th scope=col>rhat</th><th scope=col>ess_bulk</th><th scope=col>ess_tail</th></tr>\n",
              "\t<tr><th scope=col>&lt;chr&gt;</th><th scope=col>&lt;dbl&gt;</th><th scope=col>&lt;dbl&gt;</th><th scope=col>&lt;dbl&gt;</th><th scope=col>&lt;dbl&gt;</th><th scope=col>&lt;dbl&gt;</th><th scope=col>&lt;dbl&gt;</th><th scope=col>&lt;dbl&gt;</th><th scope=col>&lt;dbl&gt;</th><th scope=col>&lt;dbl&gt;</th></tr>\n",
              "</thead>\n",
              "<tbody>\n",
              "\t<tr><td>lp__ </td><td>-7.29</td><td>-7.01</td><td>0.74</td><td>0.36</td><td>-8.778</td><td>-6.75</td><td>1</td><td>787</td><td> 925</td></tr>\n",
              "\t<tr><td>theta</td><td> 0.26</td><td> 0.24</td><td>0.13</td><td>0.13</td><td> 0.087</td><td> 0.49</td><td>1</td><td>820</td><td>1018</td></tr>\n",
              "</tbody>\n",
              "</table>\n"
            ]
          },
          "metadata": {
            "tags": []
          }
        }
      ]
    },
    {
      "cell_type": "code",
      "metadata": {
        "id": "ZczXvrjCuFFW",
        "colab_type": "code",
        "colab": {}
      },
      "source": [
        ""
      ],
      "execution_count": 0,
      "outputs": []
    },
    {
      "cell_type": "code",
      "metadata": {
        "id": "Tu53HQfwvF8h",
        "colab_type": "code",
        "colab": {}
      },
      "source": [
        ""
      ],
      "execution_count": 0,
      "outputs": []
    }
  ]
}