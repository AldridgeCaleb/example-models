{
  "nbformat": 4,
  "nbformat_minor": 0,
  "metadata": {
    "kernelspec": {
      "display_name": "R",
      "language": "R",
      "name": "ir"
    },
    "language_info": {
      "codemirror_mode": "r",
      "file_extension": ".r",
      "mimetype": "text/x-r-source",
      "name": "R",
      "pygments_lexer": "r",
      "version": "3.6.1"
    },
    "colab": {
      "name": "CmdStanR Example Notebook.ipynb",
      "provenance": [],
      "collapsed_sections": [],
      "include_colab_link": true
    }
  },
  "cells": [
    {
      "cell_type": "markdown",
      "metadata": {
        "id": "view-in-github",
        "colab_type": "text"
      },
      "source": [
        "<a href=\"https://colab.research.google.com/github/stan-dev/example-models/blob/case-study%2Fstan-cloud/knitr/cloud-compute-2020/CmdStanR_Example_Notebook.ipynb\" target=\"_parent\"><img src=\"https://colab.research.google.com/assets/colab-badge.svg\" alt=\"Open In Colab\"/></a>"
      ]
    },
    {
      "cell_type": "markdown",
      "metadata": {
        "id": "fhNZXCzKuFFF",
        "colab_type": "text"
      },
      "source": [
        "## CmdStanR Jupyter Notebook"
      ]
    },
    {
      "cell_type": "code",
      "metadata": {
        "colab_type": "code",
        "id": "xdDWhBEkLLxe",
        "colab": {}
      },
      "source": [
        "# Install package CmdStanR from GitHub\n",
        "library(devtools)\n",
        "if(!require(cmdstanr)){\n",
        "  devtools::install_github(\"stan-dev/cmdstanr\", dependencies=c(\"Depends\", \"Imports\"))\n",
        "  library(cmdstanr)\n",
        "}\n"
      ],
      "execution_count": 0,
      "outputs": []
    },
    {
      "cell_type": "code",
      "metadata": {
        "id": "2WtFcXmMuFFI",
        "colab_type": "code",
        "colab": {}
      },
      "source": [
        "# Install CmdStan binaries\n",
        "if (!file.exists(\"cmdstan-2-22-1.tgz\")) {\n",
        "  system(\"wget https://storage.googleapis.com/cmdstan-2-22-tgz/cmdstan-2-22-1.tgz\", intern=T)\n",
        "  system(\"tar zxf cmdstan-2-22-1.tgz\", intern=T)\n",
        "}\n",
        "list.files(\"cmdstan-2.22.1\")"
      ],
      "execution_count": 0,
      "outputs": []
    },
    {
      "cell_type": "code",
      "metadata": {
        "id": "8-oNTCSauFFQ",
        "colab_type": "code",
        "colab": {}
      },
      "source": [
        "# Set cmdstan_path to CmdStan installation\n",
        "set_cmdstan_path(\"cmdstan-2.22.1\")"
      ],
      "execution_count": 0,
      "outputs": []
    },
    {
      "cell_type": "code",
      "metadata": {
        "id": "5gS9PxrPuFFT",
        "colab_type": "code",
        "colab": {}
      },
      "source": [
        "# Compile example model\n",
        "file <- file.path(cmdstan_path(), \"examples\", \"bernoulli\", \"bernoulli.stan\")\n",
        "mod <- cmdstan_model(file)\n",
        "\n",
        "# Fit\n",
        "data_list <- list(N = 10, y =c(0,1,0,0,0,0,0,0,0,1))\n",
        "fit <- mod$sample(data = data_list, seed=123)\n",
        "\n",
        "# Summarize Fit\n",
        "options(digits = 2)\n",
        "fit$summary()"
      ],
      "execution_count": 0,
      "outputs": []
    },
    {
      "cell_type": "code",
      "metadata": {
        "id": "yQWQbCIzwbRS",
        "colab_type": "code",
        "colab": {}
      },
      "source": [
        ""
      ],
      "execution_count": 0,
      "outputs": []
    }
  ]
}