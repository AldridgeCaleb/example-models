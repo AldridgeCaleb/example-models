{
  "nbformat": 4,
  "nbformat_minor": 0,
  "metadata": {
    "colab": {
      "name": "show_VM_specs.ipynb",
      "provenance": [],
      "authorship_tag": "ABX9TyMvSvgaZZmr1uEmKKIhJ2ut",
      "include_colab_link": true
    },
    "kernelspec": {
      "name": "python3",
      "display_name": "Python 3"
    }
  },
  "cells": [
    {
      "cell_type": "markdown",
      "metadata": {
        "id": "view-in-github",
        "colab_type": "text"
      },
      "source": [
        "<a href=\"https://colab.research.google.com/github/stan-dev/example-models/blob/case-study%2Fstan-cloud/knitr/cloud-compute-2020/show_VM_specs.ipynb\" target=\"_parent\"><img src=\"https://colab.research.google.com/assets/colab-badge.svg\" alt=\"Open In Colab\"/></a>"
      ]
    },
    {
      "cell_type": "code",
      "metadata": {
        "id": "WMc-sd9hCQwI",
        "colab_type": "code",
        "outputId": "dabace9f-a391-415b-903a-8fffb608b852",
        "colab": {
          "base_uri": "https://localhost:8080/",
          "height": 66
        }
      },
      "source": [
        "# show available memory in GB\n",
        "!free -g"
      ],
      "execution_count": 9,
      "outputs": [
        {
          "output_type": "stream",
          "text": [
            "              total        used        free      shared  buff/cache   available\n",
            "Mem:             12           0          10           0           1          11\n",
            "Swap:             0           0           0\n"
          ],
          "name": "stdout"
        }
      ]
    },
    {
      "cell_type": "code",
      "metadata": {
        "id": "ZZs437JNCa3H",
        "colab_type": "code",
        "outputId": "d0b16005-05c4-4916-94b7-c166fbc5acd3",
        "colab": {
          "base_uri": "https://localhost:8080/",
          "height": 66
        }
      },
      "source": [
        "# show disk space in GB\n",
        "!pwd\n",
        "!df -BG `pwd`"
      ],
      "execution_count": 11,
      "outputs": [
        {
          "output_type": "stream",
          "text": [
            "/content\n",
            "Filesystem     1G-blocks  Used Available Use% Mounted on\n",
            "overlay             108G   29G       74G  28% /\n"
          ],
          "name": "stdout"
        }
      ]
    },
    {
      "cell_type": "code",
      "metadata": {
        "id": "CJH0TLPaEkEi",
        "colab_type": "code",
        "outputId": "101c8e86-3129-4cf6-ba4e-8a14fa67e7f7",
        "colab": {
          "base_uri": "https://localhost:8080/",
          "height": 196
        }
      },
      "source": [
        "# number of processors\n",
        "!cat /proc/cpuinfo | grep processor | wc -l\n",
        "# processor spec\n",
        "!cat /proc/cpuinfo | head -10"
      ],
      "execution_count": 12,
      "outputs": [
        {
          "output_type": "stream",
          "text": [
            "2\n",
            "processor\t: 0\n",
            "vendor_id\t: GenuineIntel\n",
            "cpu family\t: 6\n",
            "model\t\t: 63\n",
            "model name\t: Intel(R) Xeon(R) CPU @ 2.30GHz\n",
            "stepping\t: 0\n",
            "microcode\t: 0x1\n",
            "cpu MHz\t\t: 2300.000\n",
            "cache size\t: 46080 KB\n",
            "physical id\t: 0\n"
          ],
          "name": "stdout"
        }
      ]
    },
    {
      "cell_type": "code",
      "metadata": {
        "id": "Db3Js7CzEsXM",
        "colab_type": "code",
        "colab": {}
      },
      "source": [
        "# which python?\n",
        "!python --version\n",
        "!python -m site"
      ],
      "execution_count": 0,
      "outputs": []
    },
    {
      "cell_type": "code",
      "metadata": {
        "id": "Q6utR8uAU6nl",
        "colab_type": "code",
        "colab": {}
      },
      "source": [
        "# which R?\n",
        "!R --version"
      ],
      "execution_count": 0,
      "outputs": []
    },
    {
      "cell_type": "code",
      "metadata": {
        "id": "8mY99fcDVkjG",
        "colab_type": "code",
        "colab": {}
      },
      "source": [
        "# enable R\n",
        "%load_ext rpy2.ipython"
      ],
      "execution_count": 0,
      "outputs": []
    },
    {
      "cell_type": "code",
      "metadata": {
        "id": "wsI7YLNAWKuM",
        "colab_type": "code",
        "colab": {}
      },
      "source": [
        "%%R\n",
        "# inspect R packages\n",
        ".libPaths()\n",
        "library()"
      ],
      "execution_count": 0,
      "outputs": []
    },
    {
      "cell_type": "code",
      "metadata": {
        "id": "AVqXI17-WZ1f",
        "colab_type": "code",
        "colab": {}
      },
      "source": [
        ""
      ],
      "execution_count": 0,
      "outputs": []
    }
  ]
}