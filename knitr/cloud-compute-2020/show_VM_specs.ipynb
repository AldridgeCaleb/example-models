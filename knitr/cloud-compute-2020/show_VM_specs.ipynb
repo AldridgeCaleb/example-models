{
  "nbformat": 4,
  "nbformat_minor": 0,
  "metadata": {
    "colab": {
      "name": "show_VM_specs.ipynb",
      "provenance": [],
      "authorship_tag": "ABX9TyMvSvgaZZmr1uEmKKIhJ2ut",
      "include_colab_link": true
    },
    "kernelspec": {
      "name": "python3",
      "display_name": "Python 3"
    }
  },
  "cells": [
    {
      "cell_type": "markdown",
      "metadata": {
        "id": "view-in-github",
        "colab_type": "text"
      },
      "source": [
        "<a href=\"https://colab.research.google.com/github/stan-dev/example-models/blob/case-study%2Fstan-cloud/knitr/cloud-compute-2020/show_VM_specs.ipynb\" target=\"_parent\"><img src=\"https://colab.research.google.com/assets/colab-badge.svg\" alt=\"Open In Colab\"/></a>"
      ]
    },
    {
      "cell_type": "code",
      "metadata": {
        "id": "WMc-sd9hCQwI",
        "colab_type": "code",
        "colab": {}
      },
      "source": [
        "# show available memory in GB\n",
        "!free -g"
      ],
      "execution_count": 0,
      "outputs": []
    },
    {
      "cell_type": "code",
      "metadata": {
        "id": "ZZs437JNCa3H",
        "colab_type": "code",
        "colab": {}
      },
      "source": [
        "# show disk space in GB\n",
        "!pwd\n",
        "!df -BG `pwd`"
      ],
      "execution_count": 0,
      "outputs": []
    },
    {
      "cell_type": "code",
      "metadata": {
        "id": "CJH0TLPaEkEi",
        "colab_type": "code",
        "colab": {}
      },
      "source": [
        "# number of processors\n",
        "!cat /proc/cpuinfo | grep processor | wc -l\n",
        "# processor spec\n",
        "!cat /proc/cpuinfo | head -10"
      ],
      "execution_count": 0,
      "outputs": []
    },
    {
      "cell_type": "code",
      "metadata": {
        "id": "Db3Js7CzEsXM",
        "colab_type": "code",
        "colab": {}
      },
      "source": [
        "# which python?\n",
        "!python --version\n",
        "!python -m site"
      ],
      "execution_count": 0,
      "outputs": []
    },
    {
      "cell_type": "code",
      "metadata": {
        "id": "Q6utR8uAU6nl",
        "colab_type": "code",
        "colab": {}
      },
      "source": [
        "# which R?\n",
        "!R --version"
      ],
      "execution_count": 0,
      "outputs": []
    },
    {
      "cell_type": "code",
      "metadata": {
        "id": "8mY99fcDVkjG",
        "colab_type": "code",
        "colab": {}
      },
      "source": [
        "# enable R\n",
        "%load_ext rpy2.ipython"
      ],
      "execution_count": 0,
      "outputs": []
    },
    {
      "cell_type": "code",
      "metadata": {
        "id": "wsI7YLNAWKuM",
        "colab_type": "code",
        "colab": {}
      },
      "source": [
        "%%R\n",
        "# inspect R packages\n",
        ".libPaths()\n",
        "library()"
      ],
      "execution_count": 0,
      "outputs": []
    },
    {
      "cell_type": "code",
      "metadata": {
        "id": "AVqXI17-WZ1f",
        "colab_type": "code",
        "colab": {}
      },
      "source": [
        ""
      ],
      "execution_count": 0,
      "outputs": []
    }
  ]
}